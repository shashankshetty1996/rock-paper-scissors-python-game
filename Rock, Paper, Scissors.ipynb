{
 "cells": [
  {
   "cell_type": "markdown",
   "metadata": {},
   "source": [
    "## importing library"
   ]
  },
  {
   "cell_type": "code",
   "execution_count": 30,
   "metadata": {
    "collapsed": true
   },
   "outputs": [],
   "source": [
    "import random as rand"
   ]
  },
  {
   "cell_type": "code",
   "execution_count": 31,
   "metadata": {},
   "outputs": [
    {
     "name": "stdout",
     "output_type": "stream",
     "text": [
      "Hint: \"rock\" \"paper\" \"scissors\"\n",
      "Enter your choice :rock\n"
     ]
    }
   ],
   "source": [
    "# Initialization of Choice list\n",
    "choice = ['rock', 'paper', 'scissors']\n",
    "\n",
    "# Taking Input from users\n",
    "print(\"Hint: \\\"rock\\\" \\\"paper\\\" \\\"scissors\\\"\")\n",
    "user_choice = input(\"Enter your choice :\").lower()\n",
    "\n",
    "if(user_choice not in choice):\n",
    "    user_choice = choice[rand.randint(0,2)]\n",
    "    print(\"Due to invalid choice. We have selected your choice as \"+ user_choice )"
   ]
  },
  {
   "cell_type": "markdown",
   "metadata": {},
   "source": [
    "## AI part"
   ]
  },
  {
   "cell_type": "code",
   "execution_count": 32,
   "metadata": {},
   "outputs": [
    {
     "name": "stdout",
     "output_type": "stream",
     "text": [
      "Computer choice is paper\n"
     ]
    }
   ],
   "source": [
    "ai_choice = choice[rand.randint(0,2)]\n",
    "print(\"Computer choice is \"+ai_choice)"
   ]
  },
  {
   "cell_type": "markdown",
   "metadata": {},
   "source": [
    "## Compairing"
   ]
  },
  {
   "cell_type": "code",
   "execution_count": 33,
   "metadata": {},
   "outputs": [
    {
     "name": "stdout",
     "output_type": "stream",
     "text": [
      "Computer wins!\n"
     ]
    }
   ],
   "source": [
    "# result\n",
    "user_pos = choice.index(user_choice) + 1\n",
    "ai_pos = choice.index(ai_choice) + 1\n",
    "\n",
    "# print(user_choice+\" user choice position is \"+str(user_pos)+\" and \"+ ai_choice + \" computer choice position is \" +str(ai_pos))\n",
    "\n",
    "if (user_pos == 3 and ai_pos == 1):\n",
    "    user_pos = 0\n",
    "elif (ai_pos == 3 and user_pos == 1):\n",
    "    ai_pos = 0\n",
    "    \n",
    "if (user_pos == ai_pos):\n",
    "    print(\"It's a tie\")\n",
    "elif (user_pos > ai_pos):\n",
    "    print(\"User wins!\")\n",
    "elif (ai_pos > user_pos):\n",
    "    print(\"Computer wins!\")"
   ]
  },
  {
   "cell_type": "code",
   "execution_count": null,
   "metadata": {
    "collapsed": true
   },
   "outputs": [],
   "source": []
  },
  {
   "cell_type": "code",
   "execution_count": null,
   "metadata": {
    "collapsed": true
   },
   "outputs": [],
   "source": []
  }
 ],
 "metadata": {
  "kernelspec": {
   "display_name": "Python 3",
   "language": "python",
   "name": "python3"
  },
  "language_info": {
   "codemirror_mode": {
    "name": "ipython",
    "version": 3
   },
   "file_extension": ".py",
   "mimetype": "text/x-python",
   "name": "python",
   "nbconvert_exporter": "python",
   "pygments_lexer": "ipython3",
   "version": "3.5.2"
  }
 },
 "nbformat": 4,
 "nbformat_minor": 2
}
